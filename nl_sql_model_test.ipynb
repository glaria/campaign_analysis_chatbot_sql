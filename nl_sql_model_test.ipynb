{
 "cells": [
  {
   "cell_type": "code",
   "execution_count": 1,
   "id": "33da896f-cb76-4e60-abc9-1395962fd60e",
   "metadata": {},
   "outputs": [
    {
     "name": "stderr",
     "output_type": "stream",
     "text": [
      "C:\\Users\\34673\\AppData\\Local\\Programs\\Python\\Python310\\lib\\site-packages\\tqdm\\auto.py:21: TqdmWarning: IProgress not found. Please update jupyter and ipywidgets. See https://ipywidgets.readthedocs.io/en/stable/user_install.html\n",
      "  from .autonotebook import tqdm as notebook_tqdm\n"
     ]
    }
   ],
   "source": [
    "from pandasql import sqldf\n",
    "from typing import List, Dict\n",
    "import pandas as pd\n",
    "from transformers import AutoTokenizer, AutoModelForSeq2SeqLM"
   ]
  },
  {
   "cell_type": "code",
   "execution_count": 2,
   "id": "b96fa380-3035-42c2-b1e4-2170b58c98ae",
   "metadata": {},
   "outputs": [],
   "source": [
    "tokenizer = AutoTokenizer.from_pretrained(\"juierror/flan-t5-text2sql-with-schema-v2\")\n",
    "model = AutoModelForSeq2SeqLM.from_pretrained(\"juierror/flan-t5-text2sql-with-schema-v2\")\n"
   ]
  },
  {
   "cell_type": "code",
   "execution_count": 3,
   "id": "ead19c1e-6f54-40e1-9d80-4c6612d1fc45",
   "metadata": {},
   "outputs": [],
   "source": [
    "def pysqldf(q, dataframes):\n",
    "    return sqldf(q, dataframes)\n",
    "\n",
    "#df_table = st.session_state.uploaded_data\n",
    "\n",
    "def get_prompt(tables, question):\n",
    "    prompt = f\"\"\"convert question and table into SQL query. tables: {tables}. question: {question}\"\"\"\n",
    "    return prompt\n",
    "\n",
    "def prepare_input(question: str, tables: Dict[str, List[str]]):\n",
    "    tables = [f\"\"\"{table_name}({\",\".join(tables[table_name])})\"\"\" for table_name in tables]\n",
    "    tables = \", \".join(tables)\n",
    "    prompt = get_prompt(tables, question)\n",
    "    input_ids = tokenizer(prompt, max_length=512, return_tensors=\"pt\").input_ids\n",
    "    return input_ids\n",
    "\n",
    "def inference(question: str, tables: Dict[str, List[str]]) -> str:\n",
    "    input_data = prepare_input(question=question, tables=tables)\n",
    "    input_data = input_data.to(model.device)\n",
    "    outputs = model.generate(inputs=input_data, num_beams=10, max_length=512) #top_k=10,\n",
    "    result = tokenizer.decode(token_ids=outputs[0], skip_special_tokens=True)\n",
    "    return result\n",
    "\n",
    "def user_query_dataframe(question: str, df_table: pd.DataFrame) -> (str, pd.DataFrame):\n",
    "    \"\"\"\n",
    "    Receives a string (question) and a dataframe\n",
    "    Pass the question to the model inference and apply the result query to the given dataframe\n",
    "\n",
    "    \"\"\"\n",
    "    try:\n",
    "        columns_list = df_table.columns.tolist()\n",
    "        df_table_schema = {\"df_table\": columns_list}\n",
    "        query = inference(question, df_table_schema)\n",
    "        print(query)\n",
    "        result_df = pysqldf(query, locals())\n",
    "        return ('table2',result_df)\n",
    "    except Exception as e:\n",
    "        print(f\"Error executing SQL query: {str(e)}\")\n",
    "        return ('0', question)  # Return an empty DataFrame or handle the error as needed\n"
   ]
  },
  {
   "cell_type": "code",
   "execution_count": 4,
   "id": "87ccba9a-69fb-4904-b0bf-18eacce93bfa",
   "metadata": {},
   "outputs": [
    {
     "name": "stderr",
     "output_type": "stream",
     "text": [
      "Truncation was not explicitly activated but `max_length` is provided a specific value, please use `truncation=True` to explicitly truncate examples to max length. Defaulting to 'longest_first' truncation strategy. If you encode pairs of sequences (GLUE-style) with the tokenizer you can select this strategy more precisely by providing a specific strategy to `truncation`.\n"
     ]
    },
    {
     "name": "stdout",
     "output_type": "stream",
     "text": [
      "SELECT id FROM people_name WHERE name = 'jui' AND age < 25\n"
     ]
    }
   ],
   "source": [
    "print(inference(\"what is id with name jui and age less than 25\", {\n",
    "    \"people_name\": [\"id\", \"name\", \"age\"]\n",
    "}))"
   ]
  },
  {
   "cell_type": "code",
   "execution_count": 6,
   "id": "ea2938e5-1dd8-4f57-ac1a-c33970af8064",
   "metadata": {},
   "outputs": [
    {
     "name": "stdout",
     "output_type": "stream",
     "text": [
      "SELECT count(*) FROM product_table WHERE product = 'play_sports' AND cus_age < 35\n"
     ]
    }
   ],
   "source": [
    "print(inference(\"how many customers are there with product play_sports and younger than 35\", {\n",
    "    \"product_table\": [\"customernumber\", \"product\", \"cus_age\"]\n",
    "}))"
   ]
  },
  {
   "cell_type": "code",
   "execution_count": 8,
   "id": "63e6e48b-1971-4969-ab9a-d49667e7dc5d",
   "metadata": {},
   "outputs": [
    {
     "name": "stdout",
     "output_type": "stream",
     "text": [
      "SELECT count(*) FROM customer_table WHERE product = 'play_sports', cus_age = 'young_adults' AND age > 18\n"
     ]
    }
   ],
   "source": [
    "print(inference(\"how many customers are there with product play_sports, lifestage young_adults and older than 18\", {\n",
    "    \"customer_table\": [\"customernumber\", \"product\", \"cus_age\", \"lifestage\"]\n",
    "}))"
   ]
  },
  {
   "cell_type": "code",
   "execution_count": 9,
   "id": "970f8ee5-c9e3-4a77-ad6a-34ce236ac1ea",
   "metadata": {},
   "outputs": [
    {
     "name": "stdout",
     "output_type": "stream",
     "text": [
      "SELECT count(*) FROM customer_table WHERE lifestage = 'young_adult' AND cus_age > 18\n"
     ]
    }
   ],
   "source": [
    "print(inference(\"how many customers are there with lifestage equal to young_adult and older than 18\", {\n",
    "    \"customer_table\": [\"customernumber\", \"product\", \"cus_age\", \"lifestage\"]\n",
    "}))"
   ]
  },
  {
   "cell_type": "code",
   "execution_count": null,
   "id": "2336ef96-56b3-40fe-b4ae-fcbc376e7d16",
   "metadata": {},
   "outputs": [],
   "source": []
  }
 ],
 "metadata": {
  "kernelspec": {
   "display_name": "Python 3 (ipykernel)",
   "language": "python",
   "name": "python3"
  },
  "language_info": {
   "codemirror_mode": {
    "name": "ipython",
    "version": 3
   },
   "file_extension": ".py",
   "mimetype": "text/x-python",
   "name": "python",
   "nbconvert_exporter": "python",
   "pygments_lexer": "ipython3",
   "version": "3.10.9"
  }
 },
 "nbformat": 4,
 "nbformat_minor": 5
}
